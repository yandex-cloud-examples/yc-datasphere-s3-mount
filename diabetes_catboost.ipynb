{
 "cells": [
  {
   "cell_type": "markdown",
   "id": "cda47872",
   "metadata": {
    "cellId": "7onj563y17korq71txyh8",
    "execution_id": "c1c95681-07a9-4492-9864-10c2ec8feb3c"
   },
   "source": [
    "Data source: https://www.kaggle.com/datasets/alexteboul/diabetes-health-indicators-dataset?select=diabetes_012_health_indicators_BRFSS2015.csv"
   ]
  },
  {
   "cell_type": "markdown",
   "id": "c257f7c6",
   "metadata": {
    "cellId": "6z0mgn013lk6r4f49bs7ek",
    "execution_id": "f4ba7054-d57b-4dc6-850d-8f7f861f44e4"
   },
   "source": [
    "This dataset contains 70692 answers for CDC BRFSS2015 form. It has an equal distribution of respondents without diabetes and with diabetes. Target variable `Diabetes_binary` has 2 classes: 0 — without diabetes, 1 — with diabetes. "
   ]
  },
  {
   "cell_type": "code",
   "execution_count": 1,
   "id": "18f787b2",
   "metadata": {
    "cellId": "ibdrqocy250ciamd6mxz2l"
   },
   "outputs": [],
   "source": [
    "import pandas as pd\n",
    "from catboost import CatBoostClassifier\n",
    "from sklearn.metrics import classification_report\n",
    "from sklearn.model_selection import train_test_split"
   ]
  },
  {
   "cell_type": "code",
   "execution_count": 2,
   "id": "c679c4c6",
   "metadata": {
    "cellId": "y3c5q1thejqbqmowccmesl"
   },
   "outputs": [],
   "source": [
    "data = pd.read_csv('diabetes_data.csv')\n",
    "data.head()"
   ]
  },
  {
   "cell_type": "code",
   "execution_count": 3,
   "id": "c93d15e5",
   "metadata": {
    "cellId": "wommrol65ho9mntsbhsnm"
   },
   "outputs": [],
   "source": [
    "X = data.loc[:, data.columns != 'Diabetes_binary']\n",
    "y = data['Diabetes_binary']"
   ]
  },
  {
   "cell_type": "code",
   "execution_count": 4,
   "id": "be237226",
   "metadata": {
    "cellId": "h8b8z6fu658pug6qohubx"
   },
   "outputs": [],
   "source": [
    "X_train, X_validation, y_train, y_validation = train_test_split(X, y, train_size=0.75, random_state=42)"
   ]
  },
  {
   "cell_type": "code",
   "execution_count": 5,
   "id": "cff887e7",
   "metadata": {
    "cellId": "y1tensi4pfovp7whc0et5b"
   },
   "outputs": [],
   "source": [
    "model = CatBoostClassifier(\n",
    "    iterations=100,\n",
    "    random_seed=42,\n",
    "    logging_level='Verbose'\n",
    ")"
   ]
  },
  {
   "cell_type": "code",
   "execution_count": 6,
   "id": "8a62d3e9",
   "metadata": {
    "cellId": "s1akvngpe4f7drrp711343",
    "tags": []
   },
   "outputs": [],
   "source": [
    "model.fit(\n",
    "    X_train, y_train,\n",
    "    eval_set=(X_validation, y_validation),\n",
    "    plot=True\n",
    ")"
   ]
  },
  {
   "cell_type": "code",
   "execution_count": 9,
   "id": "fd1f440a",
   "metadata": {
    "cellId": "lmxjvcb7uqnl50f2qriv",
    "tags": []
   },
   "outputs": [],
   "source": [
    "print(classification_report(y_validation, model.predict(X_validation)))"
   ]
  },
  {
   "cell_type": "code",
   "execution_count": null,
   "id": "9182c253",
   "metadata": {
    "cellId": "r4lqbtaikkw684wxet42n"
   },
   "outputs": [],
   "source": []
  }
 ],
 "metadata": {
  "language_info": {
   "codemirror_mode": {
    "name": "ipython",
    "version": 3
   },
   "file_extension": ".py",
   "mimetype": "text/x-python",
   "name": "python",
   "nbconvert_exporter": "python",
   "pygments_lexer": "ipython3",
   "version": "3.7.7"
  },
  "notebookId": "02a27d16-f2af-4b46-a2e4-5470dbb313e5",
  "notebookPath": "diabetes_catboost.ipynb"
 },
 "nbformat": 4,
 "nbformat_minor": 5
}
